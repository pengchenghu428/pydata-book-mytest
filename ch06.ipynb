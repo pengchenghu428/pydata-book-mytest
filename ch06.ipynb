{
 "cells": [
  {
   "cell_type": "code",
   "execution_count": 4,
   "metadata": {},
   "outputs": [],
   "source": [
    "import pandas as pd\n",
    "import numpy as np"
   ]
  },
  {
   "cell_type": "markdown",
   "metadata": {},
   "source": [
    "由于现实世界的数据非常混乱，随着事件推移，一些数据夹杂自函数（尤其是read_csv）的可选参数变得非常复杂。pandas在线文档有大量的示例展示这些参数是如何工作的。"
   ]
  },
  {
   "cell_type": "code",
   "execution_count": 7,
   "metadata": {},
   "outputs": [
    {
     "name": "stdout",
     "output_type": "stream",
     "text": [
      "   a   b   c   d message\n",
      "0  1   2   3   4   hello\n",
      "1  5   6   7   8   world\n",
      "2  9  10  11  12     foo\n",
      "   a   b   c   d message\n",
      "0  1   2   3   4   hello\n",
      "1  5   6   7   8   world\n",
      "2  9  10  11  12     foo\n",
      "   0   1   2   3      4\n",
      "0  1   2   3   4  hello\n",
      "1  5   6   7   8  world\n",
      "2  9  10  11  12    foo\n",
      "   a   b   c   d message\n",
      "0  1   2   3   4   hello\n",
      "1  5   6   7   8   world\n",
      "2  9  10  11  12     foo\n",
      "         a   b   c   d\n",
      "message               \n",
      "hello    1   2   3   4\n",
      "world    5   6   7   8\n",
      "foo      9  10  11  12\n"
     ]
    }
   ],
   "source": [
    "%pwd\n",
    "df1 = pd.read_csv('examples/ex1.csv')\n",
    "print(df1)\n",
    "\n",
    "# 使用read_table，并指定分割符\n",
    "df2 = pd.read_table('examples/ex1.csv', sep=',')\n",
    "print(df2)\n",
    "\n",
    "# 有的文件不不包含表头行，可以允许pandas自动分配默认列名，也可以自己指定列名\n",
    "df3 = pd.read_csv('examples/ex2.csv', header=None)\n",
    "print(df3)\n",
    "df4 = pd.read_csv('examples/ex2.csv', names=['a', 'b', 'c', 'd', 'message'])\n",
    "print(df4)\n",
    "\n",
    "# 指定某一位置的列为索引\n",
    "names = ['a', 'b', 'c', 'd', 'message']\n",
    "df5 = pd.read_csv('examples/ex2.csv', names=names, index_col='message')\n",
    "print(df5)"
   ]
  },
  {
   "cell_type": "code",
   "execution_count": null,
   "metadata": {},
   "outputs": [],
   "source": []
  },
  {
   "cell_type": "code",
   "execution_count": null,
   "metadata": {},
   "outputs": [],
   "source": []
  }
 ],
 "metadata": {
  "kernelspec": {
   "display_name": "Python 3",
   "language": "python",
   "name": "python3"
  },
  "language_info": {
   "codemirror_mode": {
    "name": "ipython",
    "version": 3
   },
   "file_extension": ".py",
   "mimetype": "text/x-python",
   "name": "python",
   "nbconvert_exporter": "python",
   "pygments_lexer": "ipython3",
   "version": "3.7.0"
  }
 },
 "nbformat": 4,
 "nbformat_minor": 2
}
