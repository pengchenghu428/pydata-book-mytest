{
 "cells": [
  {
   "cell_type": "code",
   "execution_count": 1,
   "metadata": {},
   "outputs": [],
   "source": [
    "import numpy as np"
   ]
  },
  {
   "cell_type": "markdown",
   "metadata": {},
   "source": [
    "4.1 NumPy ndarray：多维数组对象"
   ]
  },
  {
   "cell_type": "code",
   "execution_count": 8,
   "metadata": {},
   "outputs": [
    {
     "name": "stdout",
     "output_type": "stream",
     "text": [
      "[6.  7.5 8.  0.  1. ]\n",
      "(5,)\n",
      "[[1 2 3 4]\n",
      " [5 6 7 8]]\n",
      "(2, 4)\n",
      "[0. 0. 0. 0. 0. 0. 0. 0. 0. 0.]\n",
      "[[0. 0.]\n",
      " [0. 0.]\n",
      " [0. 0.]\n",
      " [0. 0.]\n",
      " [0. 0.]]\n",
      "[[[1. 1. 1. 1.]\n",
      "  [1. 1. 1. 1.]\n",
      "  [1. 1. 1. 1.]]\n",
      "\n",
      " [[1. 1. 1. 1.]\n",
      "  [1. 1. 1. 1.]\n",
      "  [1. 1. 1. 1.]]]\n",
      "[[0.00000000e+000 0.00000000e+000 0.00000000e+000]\n",
      " [0.00000000e+000 0.00000000e+000 7.58884832e-321]\n",
      " [1.60218491e-306 0.00000000e+000 0.00000000e+000]]\n"
     ]
    }
   ],
   "source": [
    "# 生成 ndarray\n",
    "data1 = [6, 7.5, 8, 0, 1]\n",
    "arr1 = np.array(data1)\n",
    "print(arr1)\n",
    "print(arr1.shape)\n",
    "\n",
    "data2 = [[1, 2, 3, 4], [5, 6, 7, 8]]\n",
    "arr2 = np.array(data2)\n",
    "print(arr2)\n",
    "print(arr2.shape)\n",
    "\n",
    "# 创建全零数组\n",
    "print(np.zeros(10))\n",
    "print(np.zeros((5,2)))\n",
    "\n",
    "# 创建全1数组\n",
    "print(np.ones((2,3,4)))\n",
    "\n",
    "# 创建没有初始化值的数组\n",
    "print(np.empty((3,3)))"
   ]
  },
  {
   "cell_type": "markdown",
   "metadata": {},
   "source": [
    "ndarray 布尔索引：python 的关键字and 和or 对布尔值数组并没有用，请使用&(and)和|(or)来代替"
   ]
  },
  {
   "cell_type": "code",
   "execution_count": 4,
   "metadata": {},
   "outputs": [
    {
     "name": "stdout",
     "output_type": "stream",
     "text": [
      "[[ 1.00994092  1.26822397  1.01682237 -0.06743057]\n",
      " [ 0.08258203 -0.29590411 -0.11379658  0.29019993]\n",
      " [ 0.40714727  0.46606411 -0.26864735 -1.39699538]\n",
      " [ 0.67702758  0.52978081 -2.18328679 -0.45532447]]\n"
     ]
    }
   ],
   "source": [
    "names = np.array(['Bob', 'Joe', 'Will', 'Bob', 'Will', 'Joe', 'Joe'])\n",
    "data = np.random.randn(7, 4)\n",
    "\n",
    "mask = (names == 'Bob') | (names == 'Will')\n",
    "print(data[mask])"
   ]
  },
  {
   "cell_type": "markdown",
   "metadata": {},
   "source": [
    "4.1.6 神奇索引"
   ]
  },
  {
   "cell_type": "code",
   "execution_count": 5,
   "metadata": {},
   "outputs": [
    {
     "name": "stdout",
     "output_type": "stream",
     "text": [
      "[[0. 0. 0. 0.]\n",
      " [1. 1. 1. 1.]\n",
      " [2. 2. 2. 2.]\n",
      " [3. 3. 3. 3.]\n",
      " [4. 4. 4. 4.]\n",
      " [5. 5. 5. 5.]\n",
      " [6. 6. 6. 6.]\n",
      " [7. 7. 7. 7.]]\n",
      "[[4. 4. 4. 4.]\n",
      " [3. 3. 3. 3.]\n",
      " [0. 0. 0. 0.]\n",
      " [6. 6. 6. 6.]]\n"
     ]
    }
   ],
   "source": [
    "arr = np.empty((8, 4))\n",
    "\n",
    "for i in range(8):\n",
    "    arr[i] = i\n",
    "print(arr)\n",
    "\n",
    "# 为了选出一个符合特定顺序的自己，可以简单地通过传递一个包含知名所需顺序的列表或者数组来完成\n",
    "print(arr[[4, 3, 0, 6]])\n",
    "# 使用负的索引，蒋从尾部进行选择：\n",
    "print(arr[[-1, -3, -2]])\n",
    "\n",
    "# 传递多个索引数组时情况有些许不同，这样会根据每个索引元组所对应的元素选出一个一维数组：\n",
    "arr = np.arrange"
   ]
  },
  {
   "cell_type": "markdown",
   "metadata": {},
   "source": [
    "4.3 使用数组进行面向数组编程\n",
    "    meshgrid(x, y)的作用是产生一个以向量为行，向量y为列的矩阵。"
   ]
  },
  {
   "cell_type": "code",
   "execution_count": 7,
   "metadata": {},
   "outputs": [
    {
     "name": "stdout",
     "output_type": "stream",
     "text": [
      "[[-5.   -4.99 -4.98 ...  4.97  4.98  4.99]\n",
      " [-5.   -4.99 -4.98 ...  4.97  4.98  4.99]\n",
      " [-5.   -4.99 -4.98 ...  4.97  4.98  4.99]\n",
      " ...\n",
      " [-5.   -4.99 -4.98 ...  4.97  4.98  4.99]\n",
      " [-5.   -4.99 -4.98 ...  4.97  4.98  4.99]\n",
      " [-5.   -4.99 -4.98 ...  4.97  4.98  4.99]]\n",
      "[[-5.   -5.   -5.   ... -5.   -5.   -5.  ]\n",
      " [-4.99 -4.99 -4.99 ... -4.99 -4.99 -4.99]\n",
      " [-4.98 -4.98 -4.98 ... -4.98 -4.98 -4.98]\n",
      " ...\n",
      " [ 4.97  4.97  4.97 ...  4.97  4.97  4.97]\n",
      " [ 4.98  4.98  4.98 ...  4.98  4.98  4.98]\n",
      " [ 4.99  4.99  4.99 ...  4.99  4.99  4.99]]\n"
     ]
    },
    {
     "data": {
      "text/plain": [
       "Text(0.5,1,'mage plot of $\\\\{x^2 + y^2}$ for a grid of values')"
      ]
     },
     "execution_count": 7,
     "metadata": {},
     "output_type": "execute_result"
    },
    {
     "data": {
      "image/png": "[encoded data removed]",
      "text/plain": [
       "<Figure size 432x288 with 2 Axes>"
      ]
     },
     "metadata": {},
     "output_type": "display_data"
    }
   ],
   "source": [
    "points = np.arange(-5, 5, 0.01)  # 1000 equally spaces points\n",
    "xs, ys = np.meshgrid(points, points)\n",
    "print(xs)\n",
    "print(ys)\n",
    "\n",
    "z = np.sqrt(xs ** 2 + ys ** 2)\n",
    "\n",
    "# 可视化二维数组\n",
    "import matplotlib.pyplot as plt\n",
    "\n",
    "plt.imshow(z, cmap=plt.cm.gray); plt.colorbar()\n",
    "plt.title(\"mage plot of $\\{x^2 + y^2}$ for a grid of values\")"
   ]
  },
  {
   "cell_type": "markdown",
   "metadata": {},
   "source": [
    "numpy当中axis的值表示的是这个多维数组维度的下标，比如有一个二维数组a，a的shape是(5,6)，也就是说a有5行6列，axis=0表示的就是[5,6]中的第一维，\n",
    "也就是行，axis=1表示的是[5,6]中的第二个维度，也就是列。"
   ]
  },
  {
   "cell_type": "code",
   "execution_count": 12,
   "metadata": {},
   "outputs": [
    {
     "name": "stdout",
     "output_type": "stream",
     "text": [
      "[[ 0  1  2  3  4  5]\n",
      " [ 6  7  8  9 10 11]\n",
      " [12 13 14 15 16 17]\n",
      " [18 19 20 21 22 23]]\n",
      "[36 40 44 48 52 56]\n",
      "[ 15  51  87 123]\n"
     ]
    }
   ],
   "source": [
    "arr = np.arange(24)\n",
    "arr = arr.reshape((4,6))\n",
    "\n",
    "print(arr)\n",
    "print(arr.sum(axis = 0))\n",
    "print(arr.sum(axis = 1))"
   ]
  },
  {
   "cell_type": "markdown",
   "metadata": {},
   "source": [
    "数组排序"
   ]
  },
  {
   "cell_type": "code",
   "execution_count": 15,
   "metadata": {},
   "outputs": [
    {
     "name": "stdout",
     "output_type": "stream",
     "text": [
      "[-0.64447611 -0.66309318 -0.7100235   0.84011809 -0.36370952  1.20353812\n",
      "  1.28907974  0.58132118 -0.35328938 -0.9254533 ]\n",
      "[-0.9254533  -0.7100235  -0.66309318 -0.64447611 -0.36370952 -0.35328938\n",
      "  0.58132118  0.84011809  1.20353812  1.28907974]\n"
     ]
    },
    {
     "data": {
      "text/plain": [
       "-0.35328937965859253"
      ]
     },
     "execution_count": 15,
     "metadata": {},
     "output_type": "execute_result"
    }
   ],
   "source": [
    "large_arr = np.random.randn(10)\n",
    "print(large_arr)\n",
    "\n",
    "large_arr.sort()\n",
    "print(large_arr)\n",
    "\n",
    "large_arr[int(0.5 * len(large_arr))]"
   ]
  },
  {
   "cell_type": "markdown",
   "metadata": {},
   "source": [
    "线性代数："
   ]
  },
  {
   "cell_type": "code",
   "execution_count": 35,
   "metadata": {},
   "outputs": [
    {
     "name": "stdout",
     "output_type": "stream",
     "text": [
      "[[-0.25460766 -0.89797827  0.07345335  1.84753812 -0.86927374]\n",
      " [-0.49393928  0.46241715 -0.23280444  0.5548197   1.40467306]\n",
      " [ 1.49789294  0.5919186   0.39498196  0.90072838  0.29802494]\n",
      " [-1.32554101 -1.3795442  -2.05795686 -0.23477806  0.98839038]\n",
      " [ 0.47777235  0.51012667 -0.9388988  -0.79863155  2.58057061]]\n",
      "[[ 4.53780975  2.95922367  2.9672565   0.53439395 -0.1033167 ]\n",
      " [ 2.95922367  3.53393364  2.42027002 -0.95284961  1.55943004]\n",
      " [ 2.9672565   2.42027002  5.33232146  1.59531215 -4.73011013]\n",
      " [ 0.53439395 -0.95284961  1.59531215  5.22546671 -2.85121404]\n",
      " [-0.1033167   1.55943004 -4.73011013 -2.85121404 10.45382232]]\n",
      "[[  0.63901029  -1.17184136   0.58698947  -0.25198971   0.37799315]\n",
      " [ -1.17184136  13.81984784 -12.71405152   2.64487174  -7.10457121]\n",
      " [  0.58698947 -12.71405152  12.45898021  -2.42965493   6.87712109]\n",
      " [ -0.25198971   2.64487174  -2.42965493   0.73391934  -1.29622458]\n",
      " [  0.37799315  -7.10457121   6.87712109  -1.29622458   3.91740551]]\n",
      "[ 4.53780975  3.53393364  5.33232146  5.22546671 10.45382232]\n",
      "[[ 4.53780975  0.          0.          0.          0.        ]\n",
      " [ 0.          3.53393364  0.          0.          0.        ]\n",
      " [ 0.          0.          5.33232146  0.          0.        ]\n",
      " [ 0.          0.          0.          5.22546671  0.        ]\n",
      " [ 0.          0.          0.          0.         10.45382232]]\n",
      "29.08335388370117\n",
      "19.77071463991428\n",
      "[14.72916412  9.12345915  4.11782477  1.07981817  0.03308767]\n",
      "[[-0.17914094 -0.60327454 -0.17652214  0.75551148  0.04484071]\n",
      " [-0.02132158 -0.6007335   0.07362081 -0.42771123 -0.67104972]\n",
      " [-0.50823958 -0.37294304  0.10312048 -0.43199779  0.63667111]\n",
      " [-0.32617087  0.15602606 -0.90986547 -0.15770525 -0.1286169 ]\n",
      " [ 0.77637556 -0.33428797 -0.35345565 -0.18647377  0.3546677 ]]\n",
      "[ 7.  7. 18.]\n",
      "[[1.1875    ]\n",
      " [1.01041667]\n",
      " [0.39583333]]\n",
      "[8.22916667]\n",
      "3\n",
      "[26.97402951  2.46027806  0.59056212]\n"
     ]
    }
   ],
   "source": [
    "X = np.random.randn(5,5)\n",
    "print(X)\n",
    "\n",
    "mat = np.dot(X.T, X)\n",
    "print(mat)\n",
    "\n",
    "X_n = np.linalg.inv(mat)  # 矩阵的逆\n",
    "print(X_n)\n",
    "\n",
    "print(np.diag(mat))  # 对角线元素\n",
    "print(np.diag(np.diag(mat))) # 创建除对角线 全部为0的矩阵\n",
    "\n",
    "print(np.trace(mat)) # 计算矩阵对角线元素之和\n",
    "\n",
    "mat_det = np.linalg.det(mat) # 计算矩阵的行列式\n",
    "print(mat_det)\n",
    "\n",
    "w, v = np.linalg.eig(mat) # 计算矩阵的特征值和特征向量\n",
    "print(w)\n",
    "print(v)\n",
    "\n",
    "q, r = np.linalg.qr(mat) # 计算矩阵的QR分解\n",
    "\n",
    "u, s, v = np.linalg.svd(mat) # 计算矩阵的奇异值分解(SVD)\n",
    "\n",
    "A = np.array([[1, 2, 1], [2, -1, 3], [3, 1, 2]])\n",
    "B = np.array([7, 7, 18])\n",
    "x = np.linalg.solve(A, B) # 求解x的线性系统Ax = b，其中A是方阵\n",
    "print(np.dot(A, x))\n",
    "\n",
    "A = np.array([[1, 6, 2], [1, 8, 1], [1, 10, 0], [1, 14, 2], [1, 18, 0]])\n",
    "B = np.array([7, 9, 13, 17.5, 18]).reshape((5,1))\n",
    "x, residual, rank,  s = np.linalg.lstsq(A, B, rcond = None) # 计算Ax = B的最小二乘解，返回最小二乘解，残差综合，x1矩阵的秩，x1的奇异值\n",
    "print(x)\n",
    "print(residual)\n",
    "print(rank)\n",
    "print(s)"
   ]
  },
  {
   "cell_type": "markdown",
   "metadata": {},
   "source": [
    "一次性模拟多次随机漫步"
   ]
  },
  {
   "cell_type": "code",
   "execution_count": 37,
   "metadata": {},
   "outputs": [
    {
     "name": "stdout",
     "output_type": "stream",
     "text": [
      "[[ -1   0  -1 ... -36 -35 -36]\n",
      " [ -1   0  -1 ...  16  17  18]\n",
      " [  1   2   3 ... -52 -51 -50]\n",
      " ...\n",
      " [  1   2   1 ... -50 -49 -48]\n",
      " [  1   2   1 ...  10   9   8]\n",
      " [ -1  -2  -3 ... -12 -13 -14]]\n",
      "(5000, 1000)\n",
      "(5000,)\n",
      "3410\n",
      "507.09560117302055\n"
     ]
    }
   ],
   "source": [
    "nwalks = 5000\n",
    "nsteps = 1000\n",
    "draws = np.random.randint(0, 2, size=(nwalks, nsteps))\n",
    "steps = np.where(draws > 0, 1, -1)\n",
    "walks = steps.cumsum(1)\n",
    "print(walks)\n",
    "hits30 = (np.abs(walks) >= 30)\n",
    "print(hits30.shape)\n",
    "hits30 = hits30.any(1)\n",
    "print(hits30.shape)\n",
    "print(hits30.sum())  # 达到30 或者-30 的数字\n",
    "\n",
    "crossing_times = (np.abs(walks[hits30]) >= 30).argmax(1)\n",
    "print(crossing_times.mean())"
   ]
  },
  {
   "cell_type": "code",
   "execution_count": null,
   "metadata": {},
   "outputs": [],
   "source": []
  }
 ],
 "metadata": {
  "kernelspec": {
   "display_name": "Python 3",
   "language": "python",
   "name": "python3"
  },
  "language_info": {
   "codemirror_mode": {
    "name": "ipython",
    "version": 3
   },
   "file_extension": ".py",
   "mimetype": "text/x-python",
   "name": "python",
   "nbconvert_exporter": "python",
   "pygments_lexer": "ipython3",
   "version": "3.6.5"
  }
 },
 "nbformat": 4,
 "nbformat_minor": 2
}
